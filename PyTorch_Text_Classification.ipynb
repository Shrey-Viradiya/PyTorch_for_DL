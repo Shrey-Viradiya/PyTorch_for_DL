{
  "nbformat": 4,
  "nbformat_minor": 0,
  "metadata": {
    "colab": {
      "name": "PyTorch_Text Classification.ipynb",
      "provenance": [],
      "authorship_tag": "ABX9TyOVTuCEpm72g/ndofrN43UI",
      "include_colab_link": true
    },
    "kernelspec": {
      "name": "python3",
      "display_name": "Python 3"
    },
    "accelerator": "GPU"
  },
  "cells": [
    {
      "cell_type": "markdown",
      "metadata": {
        "id": "view-in-github",
        "colab_type": "text"
      },
      "source": [
        "<a href=\"https://colab.research.google.com/github/Shrey-Viradiya/PyTorch_for_DL/blob/master/PyTorch_Text_Classification.ipynb\" target=\"_parent\"><img src=\"https://colab.research.google.com/assets/colab-badge.svg\" alt=\"Open In Colab\"/></a>"
      ]
    },
    {
      "cell_type": "markdown",
      "metadata": {
        "id": "kYSBkbNPJOif"
      },
      "source": [
        "# PyTorch_Text Classification"
      ]
    },
    {
      "cell_type": "code",
      "metadata": {
        "id": "wa4elB9NSYH9",
        "outputId": "5d765bed-293b-4af6-93bd-1feff3a8a9c8",
        "colab": {
          "base_uri": "https://localhost:8080/",
          "height": 372
        }
      },
      "source": [
        "!nvidia-smi"
      ],
      "execution_count": 1,
      "outputs": [
        {
          "output_type": "stream",
          "text": [
            "Fri Oct  2 17:29:19 2020       \n",
            "+-----------------------------------------------------------------------------+\n",
            "| NVIDIA-SMI 455.23.05    Driver Version: 418.67       CUDA Version: 10.1     |\n",
            "|-------------------------------+----------------------+----------------------+\n",
            "| GPU  Name        Persistence-M| Bus-Id        Disp.A | Volatile Uncorr. ECC |\n",
            "| Fan  Temp  Perf  Pwr:Usage/Cap|         Memory-Usage | GPU-Util  Compute M. |\n",
            "|                               |                      |               MIG M. |\n",
            "|===============================+======================+======================|\n",
            "|   0  Tesla T4            Off  | 00000000:00:04.0 Off |                    0 |\n",
            "| N/A   42C    P8     9W /  70W |      0MiB / 15079MiB |      0%      Default |\n",
            "|                               |                      |                 ERR! |\n",
            "+-------------------------------+----------------------+----------------------+\n",
            "                                                                               \n",
            "+-----------------------------------------------------------------------------+\n",
            "| Processes:                                                                  |\n",
            "|  GPU   GI   CI        PID   Type   Process name                  GPU Memory |\n",
            "|        ID   ID                                                   Usage      |\n",
            "|=============================================================================|\n",
            "|  No running processes found                                                 |\n",
            "+-----------------------------------------------------------------------------+\n"
          ],
          "name": "stdout"
        }
      ]
    },
    {
      "cell_type": "code",
      "metadata": {
        "id": "bmS2S5gQBDsW",
        "outputId": "e55d7971-73eb-4207-95cb-1507efd75f86",
        "colab": {
          "base_uri": "https://localhost:8080/",
          "height": 247
        }
      },
      "source": [
        "!wget http://cs.stanford.edu/people/alecmgo/trainingandtestdata.zip\n",
        "!unzip -n trainingandtestdata.zip"
      ],
      "execution_count": 2,
      "outputs": [
        {
          "output_type": "stream",
          "text": [
            "URL transformed to HTTPS due to an HSTS policy\n",
            "--2020-10-02 17:29:20--  https://cs.stanford.edu/people/alecmgo/trainingandtestdata.zip\n",
            "Resolving cs.stanford.edu (cs.stanford.edu)... 171.64.64.64\n",
            "Connecting to cs.stanford.edu (cs.stanford.edu)|171.64.64.64|:443... connected.\n",
            "HTTP request sent, awaiting response... 200 OK\n",
            "Length: 81363704 (78M) [application/zip]\n",
            "Saving to: ‘trainingandtestdata.zip.2’\n",
            "\n",
            "trainingandtestdata 100%[===================>]  77.59M  75.1MB/s    in 1.0s    \n",
            "\n",
            "2020-10-02 17:29:21 (75.1 MB/s) - ‘trainingandtestdata.zip.2’ saved [81363704/81363704]\n",
            "\n",
            "Archive:  trainingandtestdata.zip\n"
          ],
          "name": "stdout"
        }
      ]
    },
    {
      "cell_type": "code",
      "metadata": {
        "id": "Z7W_u3_CIqsi"
      },
      "source": [
        "import torch \n",
        "import torch.nn as nn\n",
        "import torch.nn.functional as F\n",
        "import torch.optim as optim\n",
        "import numpy as np\n",
        "from torchtext import data \n",
        "import torchtext\n",
        "from pathlib import Path\n",
        "import pandas as pd\n",
        "import spacy"
      ],
      "execution_count": 3,
      "outputs": []
    },
    {
      "cell_type": "markdown",
      "metadata": {
        "id": "XyDvHcdHBL6g"
      },
      "source": [
        "## Loading & Data Cleaning"
      ]
    },
    {
      "cell_type": "code",
      "metadata": {
        "id": "6_9fCM1bPKEX"
      },
      "source": [
        "tweetsDF = pd.read_csv(\"training.1600000.processed.noemoticon.csv\", engine=\"python\", header=None)"
      ],
      "execution_count": 4,
      "outputs": []
    },
    {
      "cell_type": "code",
      "metadata": {
        "id": "SHRFJvzfBd5Z",
        "outputId": "965b15e7-2fb0-4670-c559-3c171dca33d1",
        "colab": {
          "base_uri": "https://localhost:8080/",
          "height": 70
        }
      },
      "source": [
        "tweetsDF[0].value_counts()"
      ],
      "execution_count": 5,
      "outputs": [
        {
          "output_type": "execute_result",
          "data": {
            "text/plain": [
              "4    800000\n",
              "0    800000\n",
              "Name: 0, dtype: int64"
            ]
          },
          "metadata": {
            "tags": []
          },
          "execution_count": 5
        }
      ]
    },
    {
      "cell_type": "code",
      "metadata": {
        "id": "oPlJwPB2BuD6"
      },
      "source": [
        "tweetsDF['sentiment_cat'] = tweetsDF[0].astype('category')\n",
        "tweetsDF[\"sentiment\"] = tweetsDF[\"sentiment_cat\"].cat.codes\n",
        "tweetsDF.to_csv(\"train-processed.csv\", header=None, index=None)      \n",
        "tweetsDF.sample(10000).to_csv(\"train-processed-sample.csv\", header=None, index=None)"
      ],
      "execution_count": 6,
      "outputs": []
    },
    {
      "cell_type": "code",
      "metadata": {
        "id": "R42t6WscGwln"
      },
      "source": [
        "LABEL = data.LabelField()\n",
        "TWEET = data.Field(tokenize='spacy', lower=True)"
      ],
      "execution_count": 7,
      "outputs": []
    },
    {
      "cell_type": "code",
      "metadata": {
        "id": "wBYr_XqPIz81"
      },
      "source": [
        " fields = [('score',None), ('id',None),('date',None),('query',None),\n",
        "      ('name',None),\n",
        "      ('tweet', TWEET),('category',None),('label',LABEL)]"
      ],
      "execution_count": 8,
      "outputs": []
    },
    {
      "cell_type": "markdown",
      "metadata": {
        "id": "YM993PS2JYoB"
      },
      "source": [
        "## Create our Dataset and DataLoaders"
      ]
    },
    {
      "cell_type": "code",
      "metadata": {
        "id": "uIWxv1l2JTez"
      },
      "source": [
        "twitterDataset = torchtext.data.TabularDataset(\n",
        "    path = 'train-processed-sample.csv',\n",
        "    format = 'CSV',\n",
        "    fields = fields,\n",
        "    skip_header = False\n",
        ")"
      ],
      "execution_count": 9,
      "outputs": []
    },
    {
      "cell_type": "code",
      "metadata": {
        "id": "ogk1DDLDJq7t",
        "outputId": "b4ddd680-59a4-48d7-f062-1bebc09fda15",
        "colab": {
          "base_uri": "https://localhost:8080/",
          "height": 34
        }
      },
      "source": [
        "(train, test, valid)=twitterDataset.split(split_ratio=[0.6,0.2,0.2],stratified=True, strata_field='label')\n",
        "\n",
        "(len(train),len(test),len(valid))"
      ],
      "execution_count": 10,
      "outputs": [
        {
          "output_type": "execute_result",
          "data": {
            "text/plain": [
              "(6000, 2000, 2000)"
            ]
          },
          "metadata": {
            "tags": []
          },
          "execution_count": 10
        }
      ]
    },
    {
      "cell_type": "code",
      "metadata": {
        "id": "1awfit8fJtqh",
        "outputId": "81382391-26a5-4eed-b9e5-3282cd18f4e5",
        "colab": {
          "base_uri": "https://localhost:8080/",
          "height": 301
        }
      },
      "source": [
        "vars(train.examples[7])"
      ],
      "execution_count": 11,
      "outputs": [
        {
          "output_type": "execute_result",
          "data": {
            "text/plain": [
              "{'label': '0',\n",
              " 'tweet': ['dude',\n",
              "  '!',\n",
              "  'you',\n",
              "  'mean',\n",
              "  'nothing',\n",
              "  'to',\n",
              "  'me',\n",
              "  'now',\n",
              "  'but',\n",
              "  'it',\n",
              "  'does',\n",
              "  'nt',\n",
              "  'seem',\n",
              "  'like',\n",
              "  'it']}"
            ]
          },
          "metadata": {
            "tags": []
          },
          "execution_count": 11
        }
      ]
    },
    {
      "cell_type": "code",
      "metadata": {
        "id": "aiL3lN59J0_5",
        "outputId": "65206c46-4c83-492d-b267-148f776eaf5f",
        "colab": {
          "base_uri": "https://localhost:8080/",
          "height": 194
        }
      },
      "source": [
        "vocab_size = 20000\n",
        "TWEET.build_vocab(train, max_size = vocab_size)\n",
        "LABEL.build_vocab(train)\n",
        "TWEET.vocab.freqs.most_common(10)"
      ],
      "execution_count": 12,
      "outputs": [
        {
          "output_type": "execute_result",
          "data": {
            "text/plain": [
              "[('i', 3757),\n",
              " ('!', 3476),\n",
              " ('.', 3037),\n",
              " ('to', 2220),\n",
              " (' ', 2160),\n",
              " ('the', 1927),\n",
              " (',', 1800),\n",
              " ('a', 1506),\n",
              " ('my', 1251),\n",
              " ('it', 1139)]"
            ]
          },
          "metadata": {
            "tags": []
          },
          "execution_count": 12
        }
      ]
    },
    {
      "cell_type": "code",
      "metadata": {
        "id": "eyXsrQMdQMS4"
      },
      "source": [
        "device = \"cuda\"\n",
        "\n",
        "train_iterator, valid_iterator, test_iterator = data.BucketIterator.splits(\n",
        "(train, valid, test), \n",
        "batch_size = 32,\n",
        "device = device,\n",
        "sort_key = lambda x: len(x.tweet),\n",
        "sort_within_batch = False)"
      ],
      "execution_count": 13,
      "outputs": []
    },
    {
      "cell_type": "markdown",
      "metadata": {
        "id": "J79FC74kQ_6t"
      },
      "source": [
        "## Our First LSTM"
      ]
    },
    {
      "cell_type": "code",
      "metadata": {
        "id": "3R5X8icwRvB3",
        "outputId": "9acd3fdb-76cf-49f1-ae50-f46837dd70a7",
        "colab": {
          "base_uri": "https://localhost:8080/",
          "height": 105
        }
      },
      "source": [
        "class OurFirstLSTM(nn.Module):\n",
        "    def __init__(self, hidden_size, embedding_dim, vocab_size):\n",
        "        super(OurFirstLSTM, self).__init__()\n",
        "    \n",
        "        self.embedding = nn.Embedding(vocab_size, embedding_dim)\n",
        "        self.encoder = nn.LSTM(input_size=embedding_dim,  \n",
        "                hidden_size=hidden_size, num_layers=1)\n",
        "        self.predictor = nn.Linear(hidden_size, 2)\n",
        "\n",
        "    def forward(self, seq):\n",
        "        output, (hidden,_) = self.encoder(self.embedding(seq))\n",
        "        preds = self.predictor(hidden.squeeze(0))\n",
        "        return preds\n",
        "\n",
        "model = OurFirstLSTM(100,300, 20002)\n",
        "model.to(device)"
      ],
      "execution_count": 14,
      "outputs": [
        {
          "output_type": "execute_result",
          "data": {
            "text/plain": [
              "OurFirstLSTM(\n",
              "  (embedding): Embedding(20002, 300)\n",
              "  (encoder): LSTM(300, 100)\n",
              "  (predictor): Linear(in_features=100, out_features=2, bias=True)\n",
              ")"
            ]
          },
          "metadata": {
            "tags": []
          },
          "execution_count": 14
        }
      ]
    },
    {
      "cell_type": "code",
      "metadata": {
        "id": "kOqbAFfGRcJ6"
      },
      "source": [
        "def GPUinfo():\n",
        "    import os\n",
        "    import sys\n",
        "    a  = os.popen('nvidia-smi').readlines()\n",
        "    mem = a[9][33:54]\n",
        "    util = a[9][58:66]\n",
        "    sys.stdout.write(f\"\\rGPU Memory: {mem} Utilization: {util}\")\n",
        "    sys.stdout.flush()"
      ],
      "execution_count": 15,
      "outputs": []
    },
    {
      "cell_type": "code",
      "metadata": {
        "id": "1d5HIlKVQiiU"
      },
      "source": [
        "import time\n",
        "\n",
        "optimizer = optim.Adam(model.parameters(), lr=2e-2)\n",
        "criterion = nn.CrossEntropyLoss()\n",
        "\n",
        "def train(epochs, model, optimizer, criterion, train_iterator, valid_iterator):\n",
        "    for epoch in range(1, epochs + 1):\n",
        "        start = time.time()\n",
        "        training_loss = 0.0\n",
        "        valid_loss = 0.0\n",
        "        model.train()\n",
        "        for batch_idx, batch in enumerate(train_iterator):\n",
        "            optimizer.zero_grad()\n",
        "            GPUinfo()\n",
        "            predict = model(batch.tweet)\n",
        "            GPUinfo()\n",
        "            loss = criterion(predict,batch.label)\n",
        "            GPUinfo()\n",
        "            loss.backward()\n",
        "            GPUinfo()\n",
        "            optimizer.step()\n",
        "            GPUinfo()\n",
        "            training_loss += loss.data.item() * batch.tweet.size(0)\n",
        "        training_loss /= len(train_iterator)\n",
        " \n",
        "        \n",
        "        model.eval()\n",
        "        for batch_idx,batch in enumerate(valid_iterator):\n",
        "            predict = model(batch.tweet)\n",
        "            GPUinfo()\n",
        "            loss = criterion(predict,batch.label)\n",
        "            GPUinfo()\n",
        "            valid_loss += loss.data.item() * batch.tweet.size(0)\n",
        " \n",
        "        valid_loss /= len(valid_iterator)\n",
        "        print('\\nEpoch: {}, Training Loss: {:.2f}, Validation Loss: {:.2f}, time: {:.3f}'.format(epoch, training_loss, valid_loss, time.time() - start))"
      ],
      "execution_count": 16,
      "outputs": []
    },
    {
      "cell_type": "code",
      "metadata": {
        "id": "n34BA46ZRneh",
        "outputId": "e921981f-1638-45fe-a97e-3295683d57bf",
        "colab": {
          "base_uri": "https://localhost:8080/",
          "height": 194
        }
      },
      "source": [
        "train(5, model, optimizer, criterion, train_iterator, valid_iterator)"
      ],
      "execution_count": 17,
      "outputs": [
        {
          "output_type": "stream",
          "text": [
            "GPU Memory:    1081MiB / 15079MiB Utilization:     0%  \n",
            "Epoch: 1, Training Loss: 23.43, Validation Loss: 12.52, time: 160.796\n",
            "GPU Memory:    1081MiB / 15079MiB Utilization:     0%  \n",
            "Epoch: 2, Training Loss: 20.58, Validation Loss: 12.71, time: 159.150\n",
            "GPU Memory:    1081MiB / 15079MiB Utilization:     0%  \n",
            "Epoch: 3, Training Loss: 17.65, Validation Loss: 14.75, time: 156.302\n",
            "GPU Memory:    1081MiB / 15079MiB Utilization:     0%  \n",
            "Epoch: 4, Training Loss: 15.78, Validation Loss: 14.44, time: 154.167\n",
            "GPU Memory:    1081MiB / 15079MiB Utilization:     0%  \n",
            "Epoch: 5, Training Loss: 14.44, Validation Loss: 15.37, time: 152.640\n"
          ],
          "name": "stdout"
        }
      ]
    },
    {
      "cell_type": "markdown",
      "metadata": {
        "id": "AdzKu9OtT3Fz"
      },
      "source": [
        "## Making predictions"
      ]
    },
    {
      "cell_type": "code",
      "metadata": {
        "id": "pHpNKtNgSUHw"
      },
      "source": [
        "def classify_tweet(tweet):\n",
        "    categories = {0: \"Negative\", 1:\"Positive\"}\n",
        "    processed = TWEET.process([TWEET.preprocess(tweet)])\n",
        "    processed = processed.to(device)\n",
        "    return categories[model(processed).argmax().item()]"
      ],
      "execution_count": 18,
      "outputs": []
    },
    {
      "cell_type": "markdown",
      "metadata": {
        "id": "OuVlLcu4T7Il"
      },
      "source": [
        "## Data Augmentation"
      ]
    },
    {
      "cell_type": "code",
      "metadata": {
        "id": "LR16XZHST577"
      },
      "source": [
        "def random_deletion(words, p=0.5):\n",
        "    if len(words) == 1:\n",
        "        return words\n",
        "    remaining = list(filter(lambda x: random.uniform(0,1) > p,words))\n",
        "    if len(remaining) == 0:\n",
        "        return [random.choice(words)]\n",
        "    else:\n",
        "        return remaining"
      ],
      "execution_count": 19,
      "outputs": []
    },
    {
      "cell_type": "code",
      "metadata": {
        "id": "Tn99rV3OT9q9"
      },
      "source": [
        "def random_swap(sentence, n=5):\n",
        "    length = range(len(sentence))\n",
        "    for _ in range(n):\n",
        "        idx1, idx2 = random.sample(length, 2)\n",
        "        sentence[idx1], sentence[idx2] = sentence[idx2], sentence[idx1]\n",
        "    return sentence"
      ],
      "execution_count": 20,
      "outputs": []
    },
    {
      "cell_type": "code",
      "metadata": {
        "id": "LC7A4fyJUASG"
      },
      "source": [
        "# Note: you'll have to define remove_stopwords() and get_synonyms()\n",
        "\n",
        "def remove_stopwords():\n",
        "    pass\n",
        "\n",
        "def get_synonyms():\n",
        "    pass\n",
        "\n",
        "def random_insertion(sentence,n):\n",
        "    words = remove_stopwords(sentence)\n",
        "    for _ in range(n):\n",
        "        new_synonym = get_synonyms(random.choice(words))\n",
        "        sentence.insert(randrange(len(sentence)+1), new_synonym)\n",
        "    return sentence"
      ],
      "execution_count": 21,
      "outputs": []
    },
    {
      "cell_type": "code",
      "metadata": {
        "id": "HZtIRFF7UKbQ",
        "outputId": "1a1f922c-39e3-44cc-cad1-f9406b966795",
        "colab": {
          "base_uri": "https://localhost:8080/",
          "height": 87
        }
      },
      "source": [
        "import googletrans\n",
        "import random\n",
        "\n",
        "translator = googletrans.Translator()\n",
        "\n",
        "sentences = ['The cat sat on the mat']\n",
        "\n",
        "translations_fr = translator.translate(sentences, dest='fr')\n",
        "fr_text = [t.text for t in translations_fr] \n",
        "translations_en = translator.translate(fr_text, dest='en')\n",
        "en_text = [t.text for t in translations_en]\n",
        "print(en_text)   \n",
        "\n",
        "available_langs = list(googletrans.LANGUAGES.keys())\n",
        "tr_lang = random.choice(available_langs)\n",
        "print(f\"Translating to {googletrans.LANGUAGES[tr_lang]}\")\n",
        "\n",
        "translations = translator.translate(sentences, dest=tr_lang)\n",
        "t_text = [t.text for t in translations]\n",
        "print(t_text)\n",
        "\n",
        "translations_en_random = translator.translate(t_text, src=tr_lang, dest='en')\n",
        "en_text = [t.text for t in translations_en_random]\n",
        "print(en_text)"
      ],
      "execution_count": 22,
      "outputs": [
        {
          "output_type": "stream",
          "text": [
            "['The cat sat on the carpet']\n",
            "Translating to romanian\n",
            "['Pisica stătea pe saltea']\n",
            "['The cat was sitting on the mattress']\n"
          ],
          "name": "stdout"
        }
      ]
    },
    {
      "cell_type": "code",
      "metadata": {
        "id": "IW2Uljh3W6uQ"
      },
      "source": [
        ""
      ],
      "execution_count": 23,
      "outputs": []
    }
  ]
}