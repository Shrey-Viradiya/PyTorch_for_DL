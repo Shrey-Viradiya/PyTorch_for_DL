{
  "nbformat": 4,
  "nbformat_minor": 0,
  "metadata": {
    "colab": {
      "name": "PyTorch_Debugging PyTorch Models_GPU computing.ipynb",
      "provenance": [],
      "toc_visible": true,
      "authorship_tag": "ABX9TyPlfCCylMdwID6u9MXu4Jw7",
      "include_colab_link": true
    },
    "kernelspec": {
      "name": "python3",
      "display_name": "Python 3"
    },
    "accelerator": "GPU"
  },
  "cells": [
    {
      "cell_type": "markdown",
      "metadata": {
        "id": "view-in-github",
        "colab_type": "text"
      },
      "source": [
        "<a href=\"https://colab.research.google.com/github/Shrey-Viradiya/PyTorch_for_DL/blob/master/PyTorch_Debugging_PyTorch_Models_GPU_computing.ipynb\" target=\"_parent\"><img src=\"https://colab.research.google.com/assets/colab-badge.svg\" alt=\"Open In Colab\"/></a>"
      ]
    },
    {
      "cell_type": "markdown",
      "metadata": {
        "id": "vGmtgTGyGhzB"
      },
      "source": [
        "# PyTorch_Debugging PyTorch Models_GPU computing"
      ]
    },
    {
      "cell_type": "code",
      "metadata": {
        "id": "oDOK9CnoGcca",
        "outputId": "2b2b318e-e9b2-4192-9f83-fde7e5ff74ef",
        "colab": {
          "base_uri": "https://localhost:8080/",
          "height": 372
        }
      },
      "source": [
        "!nvidia-smi"
      ],
      "execution_count": 1,
      "outputs": [
        {
          "output_type": "stream",
          "text": [
            "Sun Oct  4 10:23:48 2020       \n",
            "+-----------------------------------------------------------------------------+\n",
            "| NVIDIA-SMI 455.23.05    Driver Version: 418.67       CUDA Version: 10.1     |\n",
            "|-------------------------------+----------------------+----------------------+\n",
            "| GPU  Name        Persistence-M| Bus-Id        Disp.A | Volatile Uncorr. ECC |\n",
            "| Fan  Temp  Perf  Pwr:Usage/Cap|         Memory-Usage | GPU-Util  Compute M. |\n",
            "|                               |                      |               MIG M. |\n",
            "|===============================+======================+======================|\n",
            "|   0  Tesla T4            Off  | 00000000:00:04.0 Off |                    0 |\n",
            "| N/A   57C    P0    30W /  70W |      0MiB / 15079MiB |      0%      Default |\n",
            "|                               |                      |                 ERR! |\n",
            "+-------------------------------+----------------------+----------------------+\n",
            "                                                                               \n",
            "+-----------------------------------------------------------------------------+\n",
            "| Processes:                                                                  |\n",
            "|  GPU   GI   CI        PID   Type   Process name                  GPU Memory |\n",
            "|        ID   ID                                                   Usage      |\n",
            "|=============================================================================|\n",
            "|  No running processes found                                                 |\n",
            "+-----------------------------------------------------------------------------+\n"
          ],
          "name": "stdout"
        }
      ]
    },
    {
      "cell_type": "code",
      "metadata": {
        "id": "E_brRCKOHm-7"
      },
      "source": [
        "import torch\n",
        "import torchvision\n",
        "from torch import optim\n",
        "import torch.nn as nn\n",
        "from torch.utils.tensorboard import SummaryWriter\n",
        "from torchvision import datasets, transforms,models\n",
        "import torch.utils.data\n",
        "from PIL import Image\n",
        "import numpy as np\n",
        "import time"
      ],
      "execution_count": 2,
      "outputs": []
    },
    {
      "cell_type": "code",
      "metadata": {
        "id": "zo5CQQsfIUkk",
        "outputId": "13b6b909-09ec-41cd-eb36-156c5eaeff7e",
        "colab": {
          "base_uri": "https://localhost:8080/",
          "height": 70
        }
      },
      "source": [
        "! mkdir ~/.kaggle\n",
        "! cp kaggle.json ~/.kaggle/\n",
        "! chmod 600 ~/.kaggle/kaggle.json\n",
        "! kaggle datasets download -d lucassj/dogs-vs-cats-train-validadion-and-evaluation\n",
        "! unzip -n '/content/dogs-vs-cats-train-validadion-and-evaluation.zip'"
      ],
      "execution_count": 3,
      "outputs": [
        {
          "output_type": "stream",
          "text": [
            "mkdir: cannot create directory ‘/root/.kaggle’: File exists\n",
            "dogs-vs-cats-train-validadion-and-evaluation.zip: Skipping, found more recently modified local copy (use --force to force download)\n",
            "Archive:  /content/dogs-vs-cats-train-validadion-and-evaluation.zip\n"
          ],
          "name": "stdout"
        }
      ]
    },
    {
      "cell_type": "markdown",
      "metadata": {
        "id": "qKnLDCl0Hayp"
      },
      "source": [
        "## Bad Random Process\n",
        "### Not using GPU ... More CPU process\n",
        "#### Time Consuming"
      ]
    },
    {
      "cell_type": "code",
      "metadata": {
        "id": "lLm55SKFG7rI"
      },
      "source": [
        "model = models.resnet18(pretrained=True)\n",
        "device = \"cuda:0\""
      ],
      "execution_count": 4,
      "outputs": []
    },
    {
      "cell_type": "code",
      "metadata": {
        "id": "0rUm049hHrOW"
      },
      "source": [
        "class BadRandom(object):\n",
        "    def __call__(self, img):\n",
        "        img_np = np.array(img)\n",
        "        random = np.random.random_sample(img_np.shape)\n",
        "        out_np = img_np + random\n",
        "        out = Image.fromarray(out_np.astype('uint8'), 'RGB')\n",
        "        return out\n",
        "\n",
        "    def __repr__(self):\n",
        "        str = f\"{self.__class__.__name__  }\"\n",
        "        return str"
      ],
      "execution_count": 5,
      "outputs": []
    },
    {
      "cell_type": "code",
      "metadata": {
        "id": "yeL9ylG6Htxk"
      },
      "source": [
        "train_data_path = \"./data/train/\"\n",
        "model.to(device)\n",
        "image_transforms = torchvision.transforms.Compose([transforms.Resize((224,224)),BadRandom(), transforms.ToTensor()])"
      ],
      "execution_count": 6,
      "outputs": []
    },
    {
      "cell_type": "code",
      "metadata": {
        "id": "YtycaljoH1Ah"
      },
      "source": [
        "train_data = torchvision.datasets.ImageFolder(root=train_data_path,transform=image_transforms)\n",
        "batch_size=32\n",
        "train_data_loader = torch.utils.data.DataLoader(train_data, batch_size=batch_size)"
      ],
      "execution_count": 7,
      "outputs": []
    },
    {
      "cell_type": "code",
      "metadata": {
        "id": "2CWfti1hH250"
      },
      "source": [
        "optimizer = optim.Adam(model.parameters(), lr=2e-2)\n",
        "criterion = nn.CrossEntropyLoss()"
      ],
      "execution_count": 8,
      "outputs": []
    },
    {
      "cell_type": "code",
      "metadata": {
        "id": "YKq_vOleH6cJ"
      },
      "source": [
        "def train(model, optimizer, loss_fn,  train_loader, val_loader, epochs=20, device='cuda:0'):\n",
        "    model.to(device)\n",
        "    start = time.time()\n",
        "    for epoch in range(epochs):\n",
        "        print(f\"epoch {epoch}\")\n",
        "        model.train()\n",
        "        for batch in train_loader:\n",
        "            optimizer.zero_grad()\n",
        "            ww, target = batch\n",
        "            ww = ww.to(device)\n",
        "            target= target.to(device)\n",
        "            output = model(ww)\n",
        "            loss = loss_fn(output, target)\n",
        "            loss.backward()\n",
        "            optimizer.step()\n",
        "\n",
        "        model.eval()\n",
        "        num_correct = 0\n",
        "        num_examples = 0\n",
        "        for batch in val_loader:\n",
        "            ww, target = batch\n",
        "            ww = ww.to(device)\n",
        "            target= target.to(device)\n",
        "            output = model(ww)\n",
        "            correct = torch.eq(torch.max(output, dim=1)[1], target).view(-1)\n",
        "            num_correct += torch.sum(correct).item()\n",
        "            num_examples += correct.shape[0]\n",
        "        print(\"Epoch {}, accuracy = {:.2f}, time = {:.2f}\".format(epoch, num_correct / num_examples, time.time() - start))"
      ],
      "execution_count": 9,
      "outputs": []
    },
    {
      "cell_type": "code",
      "metadata": {
        "id": "oTBmkaBsH9n0",
        "outputId": "7b673661-b41f-423f-bdf5-5f0f8f98eab9",
        "colab": {
          "base_uri": "https://localhost:8080/",
          "height": 87
        }
      },
      "source": [
        "train(model,optimizer,criterion,train_data_loader,train_data_loader,epochs=2)"
      ],
      "execution_count": 10,
      "outputs": [
        {
          "output_type": "stream",
          "text": [
            "epoch 0\n",
            "Epoch 0, accuracy = 0.50, time = 283.50\n",
            "epoch 1\n",
            "Epoch 1, accuracy = 0.50, time = 556.19\n"
          ],
          "name": "stdout"
        }
      ]
    },
    {
      "cell_type": "markdown",
      "metadata": {
        "id": "LhLsJPMrJWEn"
      },
      "source": [
        "## Good Random Process\n",
        "### Using GPU ... Less CPU process\n",
        "#### Less Time Consuming"
      ]
    },
    {
      "cell_type": "code",
      "metadata": {
        "id": "UcmZ6WpmJcBK"
      },
      "source": [
        "def add_gpu_noise(device, tensor):\n",
        "    a = torch.randn_like(tensor).to(device)\n",
        "    return tensor + a"
      ],
      "execution_count": 11,
      "outputs": []
    },
    {
      "cell_type": "code",
      "metadata": {
        "id": "nPLt2nmaJfK5"
      },
      "source": [
        "train_data_path = \"./data/train/\"\n",
        "model.to(device)\n",
        "image_transforms = torchvision.transforms.Compose([transforms.Resize((224,224)), transforms.ToTensor()])\n",
        "\n",
        "train_data = torchvision.datasets.ImageFolder(root=train_data_path,transform=image_transforms)\n",
        "batch_size=32\n",
        "train_data_loader = torch.utils.data.DataLoader(train_data, batch_size=batch_size)"
      ],
      "execution_count": 12,
      "outputs": []
    },
    {
      "cell_type": "code",
      "metadata": {
        "id": "il4-axx7JuW0"
      },
      "source": [
        "optimizer = optim.Adam(model.parameters(), lr=2e-2)\n",
        "criterion = nn.CrossEntropyLoss()"
      ],
      "execution_count": 13,
      "outputs": []
    },
    {
      "cell_type": "code",
      "metadata": {
        "id": "4l0suIKIJu3Q"
      },
      "source": [
        "def train(model, optimizer, loss_fn,  train_loader, val_loader, epochs=20, device='cuda:0'):\n",
        "    model.to(device)\n",
        "    start = time.time()\n",
        "    for epoch in range(epochs):\n",
        "        print(f\"epoch {epoch}\")\n",
        "        model.train()\n",
        "        for batch in train_loader:\n",
        "            optimizer.zero_grad()\n",
        "            ww, target = batch\n",
        "            ww = ww.to(device)\n",
        "            ww = add_gpu_noise(device,ww)\n",
        "            target= target.to(device)\n",
        "            output = model(ww)\n",
        "            loss = loss_fn(output, target)\n",
        "            loss.backward()\n",
        "            optimizer.step()\n",
        "\n",
        "        model.eval()\n",
        "        num_correct = 0\n",
        "        num_examples = 0\n",
        "        for batch in val_loader:\n",
        "            ww, target = batch\n",
        "            ww = ww.to(device)\n",
        "            target= target.to(device)\n",
        "            output = model(ww)\n",
        "            correct = torch.eq(torch.max(output, dim=1)[1], target).view(-1)\n",
        "            num_correct += torch.sum(correct).item()\n",
        "            num_examples += correct.shape[0]\n",
        "        print(\"Epoch {}, accuracy = {:.2f}, time = {:.2f}\".format(epoch, num_correct / num_examples, time.time() - start))"
      ],
      "execution_count": 14,
      "outputs": []
    },
    {
      "cell_type": "code",
      "metadata": {
        "id": "cFC5kt3nJ0Mm",
        "outputId": "7ea80cc5-1614-4c59-b1dc-f25397402d9b",
        "colab": {
          "base_uri": "https://localhost:8080/",
          "height": 87
        }
      },
      "source": [
        "train(model,optimizer,criterion,train_data_loader,train_data_loader,epochs=2)"
      ],
      "execution_count": 15,
      "outputs": [
        {
          "output_type": "stream",
          "text": [
            "epoch 0\n",
            "Epoch 0, accuracy = 0.50, time = 199.64\n",
            "epoch 1\n",
            "Epoch 1, accuracy = 0.50, time = 398.92\n"
          ],
          "name": "stdout"
        }
      ]
    },
    {
      "cell_type": "code",
      "metadata": {
        "id": "cZsXfxHTJ9BM"
      },
      "source": [
        ""
      ],
      "execution_count": null,
      "outputs": []
    }
  ]
}